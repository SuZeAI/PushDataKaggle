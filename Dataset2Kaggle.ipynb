{
  "cells": [
    {
      "cell_type": "code",
      "source": [
        "from google.colab import drive\n",
        "import os"
      ],
      "metadata": {
        "id": "ZOTroIduCm6H"
      },
      "execution_count": null,
      "outputs": []
    },
    {
      "cell_type": "code",
      "execution_count": null,
      "metadata": {
        "colab": {
          "base_uri": "https://localhost:8080/"
        },
        "id": "d1rru0TUrhkI",
        "outputId": "1076e67e-a833-4b37-a0a1-805f1cdc1c10"
      },
      "outputs": [
        {
          "output_type": "stream",
          "name": "stdout",
          "text": [
            "Mounted at /content/drive\n"
          ]
        }
      ],
      "source": [
        "drive.mount(\"/content/drive\", force_remount=True)"
      ]
    },
    {
      "cell_type": "code",
      "source": [
        "def createSubFolders(activ=False):\n",
        "  if activ == True:\n",
        "    dir = \"/content/drive/MyDrive/Datasets/ApkDatasetSplit\"\n",
        "    for ftype in os.listdir(dir):\n",
        "      for i in range(1, 26):\n",
        "        if os.path.exists(f\"{dir}/{ftype}/Zipped{ftype}_{i}\") == False:\n",
        "          os.mkdir(f\"{dir}/{ftype}/Zipped{ftype}_{i}\")\n",
        "\n",
        "createSubFolders(False)"
      ],
      "metadata": {
        "id": "Bb6n5yMQByY2"
      },
      "execution_count": null,
      "outputs": []
    },
    {
      "cell_type": "code",
      "source": [],
      "metadata": {
        "id": "vKqxJxKn7mgy"
      },
      "execution_count": null,
      "outputs": []
    },
    {
      "cell_type": "markdown",
      "source": [
        "# Zip Benign SubFolder"
      ],
      "metadata": {
        "id": "bmjF7DBYEPpC"
      }
    },
    {
      "cell_type": "code",
      "execution_count": null,
      "metadata": {
        "id": "7vU3CSCiWaG9"
      },
      "outputs": [],
      "source": [
        "!zip -r /content/drive/MyDrive/Datasets/ApkDatasetSplit/Benign/ZippedBenign_1/Benign_1.zip /content/drive/MyDrive/Datasets/ApkDatasetSplit/Benign/Benign_1\n",
        "!zip -r /content/drive/MyDrive/Datasets/ApkDatasetSplit/Benign/ZippedBenign_2/Benign_2.zip /content/drive/MyDrive/Datasets/ApkDatasetSplit/Benign/Benign_2"
      ]
    },
    {
      "cell_type": "markdown",
      "source": [
        "# Zip Malware SubFolder"
      ],
      "metadata": {
        "id": "-vNDBSnHEX0e"
      }
    },
    {
      "cell_type": "code",
      "execution_count": null,
      "metadata": {
        "id": "OFtvXM8-Dy-B"
      },
      "outputs": [],
      "source": [
        "!zip -r /content/drive/MyDrive/Datasets/ApkDatasetSplit/Malware/ZippedMalware_1/Malware_1.zip /content/drive/MyDrive/Datasets/ApkDatasetSplit/Malware/Malware_1\n",
        "!zip -r /content/drive/MyDrive/Datasets/ApkDatasetSplit/Malware/ZippedMalware_2/Malware_2.zip /content/drive/MyDrive/Datasets/ApkDatasetSplit/Malware/Malware_2"
      ]
    },
    {
      "cell_type": "markdown",
      "source": [
        "# Do the rest"
      ],
      "metadata": {
        "id": "BauUjLCzEeI_"
      }
    },
    {
      "cell_type": "code",
      "source": [
        "!pip install kaggle"
      ],
      "metadata": {
        "colab": {
          "base_uri": "https://localhost:8080/"
        },
        "id": "ACGzYWHK8iGv",
        "outputId": "f150b277-fccc-4944-c214-093c6400b0a3"
      },
      "execution_count": null,
      "outputs": [
        {
          "output_type": "stream",
          "name": "stdout",
          "text": [
            "Requirement already satisfied: kaggle in /usr/local/lib/python3.10/dist-packages (1.5.16)\n",
            "Requirement already satisfied: six>=1.10 in /usr/local/lib/python3.10/dist-packages (from kaggle) (1.16.0)\n",
            "Requirement already satisfied: certifi in /usr/local/lib/python3.10/dist-packages (from kaggle) (2023.11.17)\n",
            "Requirement already satisfied: python-dateutil in /usr/local/lib/python3.10/dist-packages (from kaggle) (2.8.2)\n",
            "Requirement already satisfied: requests in /usr/local/lib/python3.10/dist-packages (from kaggle) (2.31.0)\n",
            "Requirement already satisfied: tqdm in /usr/local/lib/python3.10/dist-packages (from kaggle) (4.66.1)\n",
            "Requirement already satisfied: python-slugify in /usr/local/lib/python3.10/dist-packages (from kaggle) (8.0.2)\n",
            "Requirement already satisfied: urllib3 in /usr/local/lib/python3.10/dist-packages (from kaggle) (2.0.7)\n",
            "Requirement already satisfied: bleach in /usr/local/lib/python3.10/dist-packages (from kaggle) (6.1.0)\n",
            "Requirement already satisfied: webencodings in /usr/local/lib/python3.10/dist-packages (from bleach->kaggle) (0.5.1)\n",
            "Requirement already satisfied: text-unidecode>=1.3 in /usr/local/lib/python3.10/dist-packages (from python-slugify->kaggle) (1.3)\n",
            "Requirement already satisfied: charset-normalizer<4,>=2 in /usr/local/lib/python3.10/dist-packages (from requests->kaggle) (3.3.2)\n",
            "Requirement already satisfied: idna<4,>=2.5 in /usr/local/lib/python3.10/dist-packages (from requests->kaggle) (3.6)\n"
          ]
        }
      ]
    },
    {
      "cell_type": "code",
      "source": [
        "import json\n",
        "# quangnguyen11037 benign (1 - 13)\n",
        "# quangnguyen2910 benign (14 - 25)\n",
        "# quangnm711 malware (full)\n",
        "for ftype in [\"Benign\",\"Malware\"]:\n",
        "  for i in range(0, 2):\n",
        "    # Data to be written\n",
        "    dictionary = {\n",
        "      \"title\": f\"{ftype}_{i + 1}\",\n",
        "      \"id\": f\"cuonon/{ftype.lower()}-{i + 1}-dataset\",\n",
        "      \"licenses\": [\n",
        "        {\n",
        "          \"name\": \"CC0-1.0\"\n",
        "        }\n",
        "      ]\n",
        "    }\n",
        "\n",
        "    # Serializing json\n",
        "    json_object = json.dumps(dictionary, indent=2)\n",
        "\n",
        "    # Writing to sample.json\n",
        "    with open(f\"/content/drive/MyDrive/Datasets/ApkDatasetSplit/{ftype}/Zipped{ftype}_{i + 1}/dataset-metadata.json\", \"w\") as outfile:\n",
        "        outfile.write(json_object)"
      ],
      "metadata": {
        "id": "6oxuPR1b_iBH"
      },
      "execution_count": null,
      "outputs": []
    },
    {
      "cell_type": "code",
      "execution_count": null,
      "metadata": {
        "colab": {
          "base_uri": "https://localhost:8080/"
        },
        "id": "B1QATXiRsORa",
        "outputId": "d8ab5cc3-66b4-4df5-f13c-2e7c1f6143ad"
      },
      "outputs": [
        {
          "output_type": "stream",
          "name": "stdout",
          "text": [
            "Data package template written to: /content/drive/MyDrive/Datasets/FcgDatasetSplit/Benign/ZippedBenign_1/dataset-metadata.json\n"
          ]
        }
      ],
      "source": [
        "# !kaggle datasets init -p /content/drive/MyDrive/Datasets/FcgDatasetSplit/Benign/ZippedBenign_1\n",
        "# # my dataset in Resized folder."
      ]
    },
    {
      "cell_type": "code",
      "execution_count": null,
      "metadata": {
        "id": "LuAuMPkgrn0N"
      },
      "outputs": [],
      "source": [
        "os.environ['KAGGLE_CONFIG_DIR'] = \"/content/drive/MyDrive/Datasets/KaggleDataset/cuonon\""
      ]
    },
    {
      "cell_type": "code",
      "source": [
        "!kaggle datasets create -p /content/drive/MyDrive/Datasets/ApkDatasetSplit/Benign/ZippedBenign_1 --dir-mode skip\n",
        "!kaggle datasets create -p /content/drive/MyDrive/Datasets/ApkDatasetSplit/Benign/ZippedBenign_2 --dir-mode skip"
      ],
      "metadata": {
        "id": "y4Mo6B8rDMbJ"
      },
      "execution_count": null,
      "outputs": []
    },
    {
      "cell_type": "code",
      "source": [
        "!kaggle datasets create -p /content/drive/MyDrive/Datasets/ApkDatasetSplit/Malware/ZippedMalware_1 --dir-mode skip\n",
        "!kaggle datasets create -p /content/drive/MyDrive/Datasets/ApkDatasetSplit/Malware/ZippedMalware_2 --dir-mode skip"
      ],
      "metadata": {
        "id": "EQ4QFRnjDriB"
      },
      "execution_count": null,
      "outputs": []
    },
    {
      "cell_type": "code",
      "execution_count": null,
      "metadata": {
        "colab": {
          "base_uri": "https://localhost:8080/"
        },
        "id": "7zoNYdwQY2ba",
        "outputId": "783c2d71-c393-4f69-da1b-b4c86ce9f773"
      },
      "outputs": [
        {
          "name": "stdout",
          "output_type": "stream",
          "text": [
            "22510 21501\n"
          ]
        }
      ],
      "source": [
        "pathdata = \"/content/drive/MyDrive/Datasets/ApkDatasetSplit\"\n",
        "benign, malware = 0, 0\n",
        "for ftype in os.listdir(pathdata):\n",
        "  for subf in os.listdir(f\"{pathdata}/{ftype}\"):\n",
        "    if \"Malware\" in subf:\n",
        "      malware += (len(os.listdir(f\"{pathdata}/{ftype}/{subf}\")))\n",
        "    else:\n",
        "      benign += (len(os.listdir(f\"{pathdata}/{ftype}/{subf}\")))\n",
        "\n",
        "print(benign, malware)"
      ]
    }
  ],
  "metadata": {
    "colab": {
      "provenance": []
    },
    "kernelspec": {
      "display_name": "Python 3",
      "name": "python3"
    },
    "language_info": {
      "name": "python"
    }
  },
  "nbformat": 4,
  "nbformat_minor": 0
}